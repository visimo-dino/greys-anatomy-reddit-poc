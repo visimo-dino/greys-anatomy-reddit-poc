{
 "cells": [
  {
   "cell_type": "code",
   "execution_count": 32,
   "id": "certain-parking",
   "metadata": {},
   "outputs": [],
   "source": [
    "from datetime import datetime as dt, timedelta\n",
    "\n",
    "import numpy as np\n",
    "import pandas as pd\n",
    "import praw\n",
    "from psaw import PushshiftAPI"
   ]
  },
  {
   "cell_type": "markdown",
   "id": "recovered-diamond",
   "metadata": {},
   "source": [
    "### Documentation for PSAW:\n",
    "https://github.com/dmarx/psaw"
   ]
  },
  {
   "cell_type": "code",
   "execution_count": 50,
   "id": "following-slave",
   "metadata": {},
   "outputs": [],
   "source": [
    "# Originally was going to use PRAW, but it doesn't allow for search-by-date. Using PSAW instead now, which doesn't require the below credentials.\n",
    "# However, we may need to uncomment this code and go back to using PRAW if we want to keep track of comments, as PRAW offers a CommentForest object.\n",
    "\n",
    "# CLIENT_ID = 'eMVKfYM81pE7hg'\n",
    "# CLIENT_SECRET = 'yyUqLCBqZsZ0Alc3Zk_0q4A9yZOULQ'\n",
    "# reddit = praw.Reddit(client_id=CLIENT_ID, client_secret=CLIENT_SECRET, user_agent='visimo-poc')\n",
    "# api = PushshiftAPI(reddit)"
   ]
  },
  {
   "cell_type": "code",
   "execution_count": 18,
   "id": "complicated-sample",
   "metadata": {},
   "outputs": [],
   "source": [
    "api = PushshiftAPI()"
   ]
  },
  {
   "cell_type": "code",
   "execution_count": 30,
   "id": "affiliated-spirituality",
   "metadata": {},
   "outputs": [],
   "source": [
    "start_date = int(dt(2019, 10, 24).timestamp())\n",
    "end_date = int(dt(2019, 11, 21).timestamp())"
   ]
  },
  {
   "cell_type": "markdown",
   "id": "opposed-chart",
   "metadata": {},
   "source": [
    "### Search original posts"
   ]
  },
  {
   "cell_type": "code",
   "execution_count": 73,
   "id": "indie-collins",
   "metadata": {},
   "outputs": [],
   "source": [
    "gen = api.search_submissions(\n",
    "#     q='abortion',\n",
    "    after=start_date,\n",
    "    before=end_date,\n",
    "    subreddit='greysanatomy',\n",
    "#     limit=100,\n",
    ")"
   ]
  },
  {
   "cell_type": "code",
   "execution_count": 74,
   "id": "representative-photograph",
   "metadata": {},
   "outputs": [],
   "source": [
    "max_results = 10000\n",
    "results = []\n",
    "\n",
    "#FYI: the generator returns 500 results per request by default, but this can be adjusted.\n",
    "for result in gen:\n",
    "    results.append(result)\n",
    "    \n",
    "    if len(results) >= max_results:\n",
    "        break"
   ]
  },
  {
   "cell_type": "code",
   "execution_count": 71,
   "id": "grave-philip",
   "metadata": {},
   "outputs": [],
   "source": [
    "# Toggle to True to pick up where we left off and get all the remaining results (this could take a LONG time).\n",
    "if False:\n",
    "    results.append(result)"
   ]
  },
  {
   "cell_type": "code",
   "execution_count": 77,
   "id": "fatty-suspect",
   "metadata": {},
   "outputs": [],
   "source": [
    "df = pd.DataFrame([result.d_ for result in results])\n",
    "df.to_excel('all_posts.xlsx', index=None)"
   ]
  },
  {
   "cell_type": "markdown",
   "id": "written-distinction",
   "metadata": {},
   "source": [
    "### Search comments/replies"
   ]
  },
  {
   "cell_type": "code",
   "execution_count": 78,
   "id": "measured-movement",
   "metadata": {},
   "outputs": [],
   "source": [
    "gen = api.search_comments(\n",
    "#     q='abortion',\n",
    "    subreddit='greysanatomy',\n",
    "    after=start_date,\n",
    "    before=end_date,\n",
    "#     limit=100,\n",
    ")"
   ]
  },
  {
   "cell_type": "code",
   "execution_count": 79,
   "id": "interstate-participation",
   "metadata": {},
   "outputs": [],
   "source": [
    "max_results = 10000\n",
    "results = []\n",
    "\n",
    "#FYI: the generator returns 500 results per request by default, but this can be adjusted.\n",
    "for result in gen:\n",
    "    results.append(result)\n",
    "    \n",
    "    if len(results) >= max_results:\n",
    "        break"
   ]
  },
  {
   "cell_type": "code",
   "execution_count": 82,
   "id": "impaired-forwarding",
   "metadata": {},
   "outputs": [],
   "source": [
    "# df = pd.DataFrame([result.d_ for result in results])\n",
    "df.to_excel('all_comments.xlsx', index=None)"
   ]
  },
  {
   "cell_type": "code",
   "execution_count": null,
   "id": "covered-moscow",
   "metadata": {},
   "outputs": [],
   "source": []
  },
  {
   "cell_type": "code",
   "execution_count": null,
   "id": "lesbian-radical",
   "metadata": {},
   "outputs": [],
   "source": []
  },
  {
   "cell_type": "code",
   "execution_count": null,
   "id": "sensitive-glucose",
   "metadata": {},
   "outputs": [],
   "source": []
  },
  {
   "cell_type": "code",
   "execution_count": null,
   "id": "compact-dominant",
   "metadata": {},
   "outputs": [],
   "source": []
  },
  {
   "cell_type": "code",
   "execution_count": null,
   "id": "registered-mountain",
   "metadata": {},
   "outputs": [],
   "source": []
  },
  {
   "cell_type": "code",
   "execution_count": null,
   "id": "utility-reverse",
   "metadata": {},
   "outputs": [],
   "source": []
  },
  {
   "cell_type": "code",
   "execution_count": null,
   "id": "adult-utilization",
   "metadata": {},
   "outputs": [],
   "source": []
  },
  {
   "cell_type": "code",
   "execution_count": null,
   "id": "standard-dayton",
   "metadata": {},
   "outputs": [],
   "source": []
  }
 ],
 "metadata": {
  "kernelspec": {
   "display_name": "Python 3",
   "language": "python",
   "name": "python3"
  },
  "language_info": {
   "codemirror_mode": {
    "name": "ipython",
    "version": 3
   },
   "file_extension": ".py",
   "mimetype": "text/x-python",
   "name": "python",
   "nbconvert_exporter": "python",
   "pygments_lexer": "ipython3",
   "version": "3.8.3"
  }
 },
 "nbformat": 4,
 "nbformat_minor": 5
}
